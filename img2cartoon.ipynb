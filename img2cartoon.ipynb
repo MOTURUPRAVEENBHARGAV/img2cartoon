{
 "cells": [
  {
   "cell_type": "markdown",
   "metadata": {},
   "source": [
    "#### Here's what we're gonna do:\n",
    "\n",
    "- 1) Apply a bilateral filter to reduce the color palette of the image\n",
    "- 2) Convert the original color image to grayscale\n",
    "- 3) Apply a median blur to reduce image noise in the resultant grayscale image\n",
    "- 4) Create an edge mask from the grayscale image using adaptive thresholding\n",
    "- 5) Combine the color image from step1 with the edge mask from step4"
   ]
  },
  {
   "cell_type": "markdown",
   "metadata": {},
   "source": [
    "### Part 1"
   ]
  },
  {
   "cell_type": "code",
   "execution_count": 3,
   "metadata": {},
   "outputs": [],
   "source": [
    "import cv2\n",
    "import numpy as np"
   ]
  },
  {
   "cell_type": "code",
   "execution_count": 4,
   "metadata": {},
   "outputs": [],
   "source": [
    "num_down = 2  # number of downsampling steps\n",
    "num_bilateral= 7 #number of bilateral filtering steps"
   ]
  },
  {
   "cell_type": "code",
   "execution_count": 5,
   "metadata": {},
   "outputs": [
    {
     "name": "stdout",
     "output_type": "stream",
     "text": [
      "(1280, 960, 3)\n"
     ]
    }
   ],
   "source": [
    "img_rgb= cv2.imread(r'C:\\Users\\Praveen Bhargav\\Desktop\\DSE\\projects\\Time_pass projects\\img2Cartoon\\test images\\13.jpg')\n",
    "print(img_rgb.shape)  #Prints the dimension of the image/Picture"
   ]
  },
  {
   "cell_type": "code",
   "execution_count": 6,
   "metadata": {},
   "outputs": [
    {
     "name": "stdout",
     "output_type": "stream",
     "text": [
      "(800, 800, 3)\n"
     ]
    }
   ],
   "source": [
    "#Resizing so as to get optimal results after un sampling is done.\n",
    "\n",
    "img_rgb=cv2.resize(img_rgb,(800,800))\n",
    "print(img_rgb.shape)  #Prints the dimension of the image/Picture"
   ]
  },
  {
   "cell_type": "markdown",
   "metadata": {},
   "source": [
    "### Part 2"
   ]
  },
  {
   "cell_type": "markdown",
   "metadata": {},
   "source": [
    "In this part, we're downsampling the image and then applying bilateral filter the mentioned amount of times"
   ]
  },
  {
   "cell_type": "markdown",
   "metadata": {},
   "source": [
    "Bilateral Blur: A bilateral filter is a non-linear, edge-preserving, and noise-reducing smoothing filter for images. It replaces the intensity of each pixel with a weighted average of intensity values from nearby pixels. This weight can be based on a Gaussian distribution. Thus, sharp edges are preserved while discarding the weak ones."
   ]
  },
  {
   "cell_type": "markdown",
   "metadata": {},
   "source": [
    "For referring Blur Techniques read : https://www.geeksforgeeks.org/python-image-blurring-using-opencv/?ref=lbp"
   ]
  },
  {
   "cell_type": "code",
   "execution_count": 7,
   "metadata": {},
   "outputs": [],
   "source": [
    "# downsample image using Gaussian Pyramid\n",
    "\n",
    "img_color=img_rgb\n",
    "for _ in range(num_down):\n",
    "    img_color= cv2.pyrDown(img_color)\n"
   ]
  },
  {
   "cell_type": "code",
   "execution_count": 8,
   "metadata": {},
   "outputs": [],
   "source": [
    "#Repeatedly apply small bilateral filter instead of applying one large filter\n",
    "\n",
    "for _ in range(num_bilateral):\n",
    "    img_color = cv2.bilateralFilter(img_color,d=9,sigmaColor=9,sigmaSpace=7)"
   ]
  },
  {
   "cell_type": "markdown",
   "metadata": {},
   "source": [
    "### Part 3"
   ]
  },
  {
   "cell_type": "markdown",
   "metadata": {},
   "source": [
    "In this part, we upsample, convert the image to grayscale, apply median blur and then thresholding."
   ]
  },
  {
   "cell_type": "code",
   "execution_count": 9,
   "metadata": {},
   "outputs": [
    {
     "name": "stdout",
     "output_type": "stream",
     "text": [
      "(800, 800)\n",
      "(800, 800)\n"
     ]
    }
   ],
   "source": [
    "#upsample image to original size\n",
    "\n",
    "for _ in range(num_down):\n",
    "    img_color= cv2.pyrUp(img_color)\n",
    "\n",
    "img_gray =cv2.cvtColor(img_rgb, cv2.COLOR_RGB2GRAY)\n",
    "print(img_gray.shape)\n",
    "img_blur = cv2.medianBlur(img_gray,7)\n",
    "img_edge = cv2.adaptiveThreshold(img_blur, 255, cv2.ADAPTIVE_THRESH_MEAN_C,\n",
    "                                 cv2.THRESH_BINARY,blockSize=9,C=2)\n",
    "print(img_edge.shape)"
   ]
  },
  {
   "cell_type": "raw",
   "metadata": {},
   "source": [
    "Syntax : cv2.adaptiveThreshold(source, maxVal, adaptiveMethod, thresholdType, blocksize, constant)"
   ]
  },
  {
   "cell_type": "markdown",
   "metadata": {},
   "source": [
    "For refernce on the AdaptiveThreshold : https://www.geeksforgeeks.org/python-thresholding-techniques-using-opencv-set-2-adaptive-thresholding/?ref=lbp"
   ]
  },
  {
   "cell_type": "markdown",
   "metadata": {},
   "source": [
    "### Part 4"
   ]
  },
  {
   "cell_type": "markdown",
   "metadata": {},
   "source": [
    "In this part, we perform 'bitwise AND', and then display the resultant image. Do make to usre to add in the end : cv2.waitkey(0)"
   ]
  },
  {
   "cell_type": "code",
   "execution_count": 10,
   "metadata": {},
   "outputs": [
    {
     "name": "stdout",
     "output_type": "stream",
     "text": [
      "(800, 800, 3)\n"
     ]
    }
   ],
   "source": [
    "#convert back to color, bit-AND with color image\n",
    "\n",
    "img_edge=cv2.cvtColor(img_edge, cv2.COLOR_GRAY2RGB)\n",
    "print(img_edge.shape)\n",
    "img_cartoon= cv2.bitwise_and(img_color,img_edge)"
   ]
  },
  {
   "cell_type": "markdown",
   "metadata": {},
   "source": [
    "print(img_color.shape)"
   ]
  },
  {
   "cell_type": "code",
   "execution_count": 11,
   "metadata": {},
   "outputs": [
    {
     "name": "stdout",
     "output_type": "stream",
     "text": [
      "(800, 800, 3)\n"
     ]
    }
   ],
   "source": [
    "print(img_edge.shape)"
   ]
  },
  {
   "cell_type": "code",
   "execution_count": 12,
   "metadata": {},
   "outputs": [],
   "source": [
    "#  #### Display\n",
    "    \n",
    "# cv2.imshow(\"cartoon\",img_cartoon)"
   ]
  },
  {
   "cell_type": "code",
   "execution_count": 13,
   "metadata": {},
   "outputs": [],
   "source": [
    "stack= np.hstack([img_rgb,img_cartoon])\n",
    "cv2.imshow('Stacked Images',stack)\n",
    "\n",
    "#Storing the key pressed by user \n",
    "k = cv2.waitKey(0)\n",
    "#Check if user hits ‘c’ or ‘g’ key\n",
    "if( k == ord('c') ):\n",
    "    cv2.imwrite(r'C:\\Users\\Praveen Bhargav\\Desktop\\DSE\\projects\\Time_pass projects\\img2Cartoon\\OUTPUT IMAGES\\color13.jpg', stack )\n",
    "    print(\"Image is saved color\")\n",
    "    cv2.destroyAllWindows()\n",
    "# if( k == ord('g') ):\n",
    "#   cv2.imwrite('gray.jpg', gray_img )\n",
    "#   print(\"Image saved in grayscale\")\n",
    "#   cv2.destroyAllWindows()\n",
    "# cv2.waitKey(0) # waits until a key is pressed\n",
    "cv2.destroyAllWindows() # destroys the window showing image"
   ]
  },
  {
   "cell_type": "markdown",
   "metadata": {},
   "source": [
    "cv2.waitKey(0) is important for holding the execution of the python program at this statement, so that the image window stays visible. If you do not provide this statement, cv2.imshow() executes in fraction of a second and the program closes all the windows it opened, which makes it almost impossible to see the image on the window."
   ]
  },
  {
   "cell_type": "markdown",
   "metadata": {},
   "source": [
    "A window is opened to show the image. Also, the window size is such that it fits the image. If the image size is greater than your screen resolution, then a window is opened with the scaled down version of the image."
   ]
  },
  {
   "cell_type": "markdown",
   "metadata": {},
   "source": [
    "The next function cv2.destroyAllWindows() closes all the windows in which images are displayed."
   ]
  },
  {
   "cell_type": "markdown",
   "metadata": {},
   "source": [
    "# To save the image"
   ]
  },
  {
   "cell_type": "code",
   "execution_count": 169,
   "metadata": {},
   "outputs": [
    {
     "name": "stdout",
     "output_type": "stream",
     "text": [
      "Image is saved color\n"
     ]
    }
   ],
   "source": [
    "#Storing the key pressed by user \n",
    "k = cv2.waitKey(0)\n",
    "#Check if user hits ‘c’ or ‘g’ key\n",
    "if( k == ord('c') ):\n",
    "    cv2.imwrite(r'C:\\Users\\Praveen Bhargav\\Desktop\\DSE\\projects\\Time_pass projects\\img2Cartoon\\OUTPUT IMAGES\\color13.jpg', stack )\n",
    "    print(\"Image is saved color\")\n",
    "    cv2.destroyAllWindows()\n",
    "# if( k == ord('g') ):\n",
    "#   cv2.imwrite('gray.jpg', gray_img )\n",
    "#   print(\"Image saved in grayscale\")\n",
    "#   cv2.destroyAllWindows()"
   ]
  },
  {
   "cell_type": "code",
   "execution_count": 3,
   "metadata": {},
   "outputs": [
    {
     "data": {
      "text/plain": [
       "99"
      ]
     },
     "execution_count": 3,
     "metadata": {},
     "output_type": "execute_result"
    }
   ],
   "source": [
    "ord(\"c\")"
   ]
  },
  {
   "cell_type": "code",
   "execution_count": null,
   "metadata": {},
   "outputs": [],
   "source": []
  }
 ],
 "metadata": {
  "kernelspec": {
   "display_name": "Python 3",
   "language": "python",
   "name": "python3"
  },
  "language_info": {
   "codemirror_mode": {
    "name": "ipython",
    "version": 3
   },
   "file_extension": ".py",
   "mimetype": "text/x-python",
   "name": "python",
   "nbconvert_exporter": "python",
   "pygments_lexer": "ipython3",
   "version": "3.8.3"
  }
 },
 "nbformat": 4,
 "nbformat_minor": 4
}
